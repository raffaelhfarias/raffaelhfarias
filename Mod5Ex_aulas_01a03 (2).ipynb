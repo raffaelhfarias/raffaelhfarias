{
  "cells": [
    {
      "cell_type": "markdown",
      "metadata": {
        "id": "Rcc2J7ZWODsZ"
      },
      "source": [
        "# Módulo 5 Tarefa 1\n",
        "## Base de nascidos vivos do DataSUS\n",
        "O DataSUS disponibiliza diversos arquivos de dados com relação a seus segurados, conforme a [lei da transparência de informações públicas](https://www.sisgov.com/transparencia-acesso-informacao/#:~:text=A%20Lei%20da%20Transpar%C3%AAncia%20(LC,em%20um%20site%20na%20internet.). \n",
        "\n",
        "Essas informações podem ser obtidas pela internet [aqui](http://www2.datasus.gov.br/DATASUS/index.php?area=0901&item=1). Como o processo de obtenção desses arquivos foge um pouco do nosso escopo, deixamos o arquivo ```SINASC_RO_2019.csv``` já como vai ser encontrado no DataSUS. O dicionário de dados está no arquivo ```estrutura_sinasc_para_CD.pdf``` (o nome do arquivo tal qual no portal do DataSUS).\n",
        "\n",
        "### Nosso objetivo\n",
        "Queremos deixar uma base organizada para podermos estudar a relação entre partos com risco para o bebê e algumas condições como tempo de parto, consultas de pré-natal etc.\n",
        "\n",
        "#### Preparação da base\n",
        "1. Carregue a base 'SINASC_RO_2019.csv'. Conte o número de registros e o número de registros não duplicados da base. Dica: você aprendeu um método que remove duplicados, encadeie este método com um outro método que conta o número de linhas. **Há linhas duplicadas?**  \n",
        "\n",
        "2. Conte o número de valores *missing* por variável.  \n",
        "\n",
        "3. Ok, no item anterior você deve ter achado pouco prático ler a informação de tantas variáveis, muitas delas nem devem ser interesantes. Então crie uma seleção dessa base somente com as colunas que interessam. São elas:\n",
        "``` \n",
        "['LOCNASC', 'IDADEMAE', 'ESTCIVMAE', 'ESCMAE', 'QTDFILVIVO', \n",
        "    'GESTACAO', 'GRAVIDEZ', 'CONSULTAS', 'APGAR5'] \n",
        "```\n",
        "Refaça a contagem de valores *missings*.  \n",
        "\n",
        "4. Apgar é uma *nota* que o pediatra dá ao bebê quando nasce de acordo com algumas características associadas principalmente à respiração. Apgar 1 e Apgar 5 são as notas 1 e 5 minutos do nascimento. Apgar5 será a nossa variável de interesse principal. Então remova todos os registros com Apgar5 não preenchido. Para esta seleção, conte novamente o número de linhas e o número de *missings*.  \n",
        "\n",
        "5. observe que as variáveis ```['ESTCIVMAE', 'CONSULTAS']``` possuem o código ```9```, que significa *ignorado*. Vamos assumir que o não preenchido é o mesmo que o código ```9```.<br>\n",
        "6. Substitua os valores faltantes da quantitativa (```QTDFILVIVO```) por zero.  \n",
        "7. Das restantes, decida que valore te parece mais adequado (um 'não preenchido' ou um valor 'mais provável' como no item anterior) e preencha. Justifique. Lembre-se de que tratamento de dados é trabalho do cientista, e que estamos tomando decisões a todo o momento - não há necessariamente certo e errado aqui.  \n",
        "8. O Apgar possui uma classificação indicando se o bebê passou por asfixia:\n",
        "- Entre 8 e 10 está em uma faixa 'normal'. \n",
        "- Entre 6 e 7, significa que o recém-nascido passou por 'asfixia leve'. \n",
        "- Entre 4 e 5 significa 'asfixia moderada'.\n",
        "- Entre 0 e 3 significa 'asfixia severa'.  \n",
        "\n",
        "Crie uma categorização dessa variável com essa codificação e calcule as frequências dessa categorização.  \n",
        "<br>\n",
        "9. Renomeie as variáveis para que fiquem no *snake case*, ou seja, em letras minúsculas, com um *underscore* entre as palávras. Dica: repare que se você não quiser criar um *dataframe* novo, você vai precisar usar a opção ```inplace = True```."
      ]
    },
    {
      "cell_type": "markdown",
      "metadata": {
        "id": "cs8J966yODsb"
      },
      "source": [
        "#### 1. Carregue a base 'SINASC_RO_2019.csv'. Conte o número de registros e o número de registros não duplicados da base. Dica: você aprendeu um método que remove duplicados, encadeie este método com um outro método que conta o número de linhas. Há linhas duplicadas?"
      ]
    },
    {
      "cell_type": "code",
      "execution_count": null,
      "metadata": {
        "id": "vO6vUStTODsc",
        "outputId": "94025e22-6714-48ae-c2f8-c86da90135dd"
      },
      "outputs": [
        {
          "name": "stdout",
          "output_type": "stream",
          "text": [
            "(27028, 69)\n"
          ]
        },
        {
          "data": {
            "text/plain": [
              "(27028, 69)"
            ]
          },
          "execution_count": 1,
          "metadata": {},
          "output_type": "execute_result"
        }
      ],
      "source": [
        "import pandas as pd\n",
        "import requests\n",
        "\n",
        "# 1) seu código aqui\n",
        "sinasc = pd.read_csv('SINASC_RO_2019.csv')\n",
        "print(sinasc.shape)\n",
        "sinasc.drop_duplicates().shape\n",
        "# Não há duplicados"
      ]
    },
    {
      "cell_type": "code",
      "execution_count": null,
      "metadata": {
        "id": "maSK0zbsODse",
        "outputId": "088a2c68-7474-4f36-9d46-fde116acdb1c"
      },
      "outputs": [
        {
          "data": {
            "text/html": [
              "<div>\n",
              "<style scoped>\n",
              "    .dataframe tbody tr th:only-of-type {\n",
              "        vertical-align: middle;\n",
              "    }\n",
              "\n",
              "    .dataframe tbody tr th {\n",
              "        vertical-align: top;\n",
              "    }\n",
              "\n",
              "    .dataframe thead th {\n",
              "        text-align: right;\n",
              "    }\n",
              "</style>\n",
              "<table border=\"1\" class=\"dataframe\">\n",
              "  <thead>\n",
              "    <tr style=\"text-align: right;\">\n",
              "      <th></th>\n",
              "      <th>ORIGEM</th>\n",
              "      <th>CODESTAB</th>\n",
              "      <th>CODMUNNASC</th>\n",
              "      <th>LOCNASC</th>\n",
              "      <th>IDADEMAE</th>\n",
              "      <th>ESTCIVMAE</th>\n",
              "      <th>ESCMAE</th>\n",
              "      <th>CODOCUPMAE</th>\n",
              "      <th>QTDFILVIVO</th>\n",
              "      <th>QTDFILMORT</th>\n",
              "      <th>...</th>\n",
              "      <th>KOTELCHUCK</th>\n",
              "      <th>CONTADOR</th>\n",
              "      <th>munResStatus</th>\n",
              "      <th>munResTipo</th>\n",
              "      <th>munResNome</th>\n",
              "      <th>munResUf</th>\n",
              "      <th>munResLat</th>\n",
              "      <th>munResLon</th>\n",
              "      <th>munResAlt</th>\n",
              "      <th>munResArea</th>\n",
              "    </tr>\n",
              "  </thead>\n",
              "  <tbody>\n",
              "    <tr>\n",
              "      <th>0</th>\n",
              "      <td>1</td>\n",
              "      <td>2679477.0</td>\n",
              "      <td>110001</td>\n",
              "      <td>1</td>\n",
              "      <td>19</td>\n",
              "      <td>5.0</td>\n",
              "      <td>8 a 11 anos</td>\n",
              "      <td>NaN</td>\n",
              "      <td>0.0</td>\n",
              "      <td>0.0</td>\n",
              "      <td>...</td>\n",
              "      <td>5</td>\n",
              "      <td>1</td>\n",
              "      <td>ATIVO</td>\n",
              "      <td>MUNIC</td>\n",
              "      <td>Alta Floresta D'Oeste</td>\n",
              "      <td>Rondônia</td>\n",
              "      <td>-11.93554</td>\n",
              "      <td>-61.99982</td>\n",
              "      <td>338.0</td>\n",
              "      <td>7067.025</td>\n",
              "    </tr>\n",
              "    <tr>\n",
              "      <th>1</th>\n",
              "      <td>1</td>\n",
              "      <td>2679477.0</td>\n",
              "      <td>110001</td>\n",
              "      <td>1</td>\n",
              "      <td>29</td>\n",
              "      <td>2.0</td>\n",
              "      <td>8 a 11 anos</td>\n",
              "      <td>999992.0</td>\n",
              "      <td>1.0</td>\n",
              "      <td>0.0</td>\n",
              "      <td>...</td>\n",
              "      <td>5</td>\n",
              "      <td>2</td>\n",
              "      <td>ATIVO</td>\n",
              "      <td>MUNIC</td>\n",
              "      <td>Alta Floresta D'Oeste</td>\n",
              "      <td>Rondônia</td>\n",
              "      <td>-11.93554</td>\n",
              "      <td>-61.99982</td>\n",
              "      <td>338.0</td>\n",
              "      <td>7067.025</td>\n",
              "    </tr>\n",
              "    <tr>\n",
              "      <th>2</th>\n",
              "      <td>1</td>\n",
              "      <td>2679477.0</td>\n",
              "      <td>110001</td>\n",
              "      <td>1</td>\n",
              "      <td>37</td>\n",
              "      <td>9.0</td>\n",
              "      <td>8 a 11 anos</td>\n",
              "      <td>513205.0</td>\n",
              "      <td>2.0</td>\n",
              "      <td>0.0</td>\n",
              "      <td>...</td>\n",
              "      <td>5</td>\n",
              "      <td>3</td>\n",
              "      <td>ATIVO</td>\n",
              "      <td>MUNIC</td>\n",
              "      <td>Alta Floresta D'Oeste</td>\n",
              "      <td>Rondônia</td>\n",
              "      <td>-11.93554</td>\n",
              "      <td>-61.99982</td>\n",
              "      <td>338.0</td>\n",
              "      <td>7067.025</td>\n",
              "    </tr>\n",
              "    <tr>\n",
              "      <th>3</th>\n",
              "      <td>1</td>\n",
              "      <td>2516500.0</td>\n",
              "      <td>110001</td>\n",
              "      <td>1</td>\n",
              "      <td>30</td>\n",
              "      <td>5.0</td>\n",
              "      <td>12 anos ou mais</td>\n",
              "      <td>231205.0</td>\n",
              "      <td>0.0</td>\n",
              "      <td>0.0</td>\n",
              "      <td>...</td>\n",
              "      <td>4</td>\n",
              "      <td>4</td>\n",
              "      <td>ATIVO</td>\n",
              "      <td>MUNIC</td>\n",
              "      <td>Alto Alegre dos Parecis</td>\n",
              "      <td>Rondônia</td>\n",
              "      <td>-12.13178</td>\n",
              "      <td>-61.85308</td>\n",
              "      <td>397.0</td>\n",
              "      <td>3958.273</td>\n",
              "    </tr>\n",
              "    <tr>\n",
              "      <th>4</th>\n",
              "      <td>1</td>\n",
              "      <td>2516500.0</td>\n",
              "      <td>110001</td>\n",
              "      <td>1</td>\n",
              "      <td>30</td>\n",
              "      <td>2.0</td>\n",
              "      <td>8 a 11 anos</td>\n",
              "      <td>999992.0</td>\n",
              "      <td>1.0</td>\n",
              "      <td>0.0</td>\n",
              "      <td>...</td>\n",
              "      <td>5</td>\n",
              "      <td>5</td>\n",
              "      <td>ATIVO</td>\n",
              "      <td>MUNIC</td>\n",
              "      <td>Alta Floresta D'Oeste</td>\n",
              "      <td>Rondônia</td>\n",
              "      <td>-11.93554</td>\n",
              "      <td>-61.99982</td>\n",
              "      <td>338.0</td>\n",
              "      <td>7067.025</td>\n",
              "    </tr>\n",
              "  </tbody>\n",
              "</table>\n",
              "<p>5 rows × 69 columns</p>\n",
              "</div>"
            ],
            "text/plain": [
              "   ORIGEM   CODESTAB  CODMUNNASC  LOCNASC  IDADEMAE  ESTCIVMAE   \n",
              "0       1  2679477.0      110001        1        19        5.0  \\\n",
              "1       1  2679477.0      110001        1        29        2.0   \n",
              "2       1  2679477.0      110001        1        37        9.0   \n",
              "3       1  2516500.0      110001        1        30        5.0   \n",
              "4       1  2516500.0      110001        1        30        2.0   \n",
              "\n",
              "            ESCMAE  CODOCUPMAE  QTDFILVIVO  QTDFILMORT  ...  KOTELCHUCK   \n",
              "0      8 a 11 anos         NaN         0.0         0.0  ...           5  \\\n",
              "1      8 a 11 anos    999992.0         1.0         0.0  ...           5   \n",
              "2      8 a 11 anos    513205.0         2.0         0.0  ...           5   \n",
              "3  12 anos ou mais    231205.0         0.0         0.0  ...           4   \n",
              "4      8 a 11 anos    999992.0         1.0         0.0  ...           5   \n",
              "\n",
              "  CONTADOR munResStatus munResTipo               munResNome  munResUf   \n",
              "0        1        ATIVO      MUNIC    Alta Floresta D'Oeste  Rondônia  \\\n",
              "1        2        ATIVO      MUNIC    Alta Floresta D'Oeste  Rondônia   \n",
              "2        3        ATIVO      MUNIC    Alta Floresta D'Oeste  Rondônia   \n",
              "3        4        ATIVO      MUNIC  Alto Alegre dos Parecis  Rondônia   \n",
              "4        5        ATIVO      MUNIC    Alta Floresta D'Oeste  Rondônia   \n",
              "\n",
              "   munResLat munResLon  munResAlt  munResArea  \n",
              "0  -11.93554 -61.99982      338.0    7067.025  \n",
              "1  -11.93554 -61.99982      338.0    7067.025  \n",
              "2  -11.93554 -61.99982      338.0    7067.025  \n",
              "3  -12.13178 -61.85308      397.0    3958.273  \n",
              "4  -11.93554 -61.99982      338.0    7067.025  \n",
              "\n",
              "[5 rows x 69 columns]"
            ]
          },
          "execution_count": 2,
          "metadata": {},
          "output_type": "execute_result"
        }
      ],
      "source": [
        "sinasc.head()"
      ]
    },
    {
      "cell_type": "markdown",
      "metadata": {
        "id": "ijQCDI2PODsf"
      },
      "source": [
        "#### 2.Conte o número de valores missing por variável."
      ]
    },
    {
      "cell_type": "code",
      "execution_count": null,
      "metadata": {
        "id": "xU7D5_VTODsf",
        "outputId": "96d99d70-22b3-4ae3-f3c4-85efba228569"
      },
      "outputs": [
        {
          "data": {
            "text/plain": [
              "ORIGEM          0\n",
              "CODESTAB      115\n",
              "CODMUNNASC      0\n",
              "LOCNASC         0\n",
              "IDADEMAE        0\n",
              "             ... \n",
              "munResUf        0\n",
              "munResLat       1\n",
              "munResLon       1\n",
              "munResAlt       1\n",
              "munResArea      1\n",
              "Length: 69, dtype: int64"
            ]
          },
          "execution_count": 3,
          "metadata": {},
          "output_type": "execute_result"
        }
      ],
      "source": [
        "# 2) seu código aqui\n",
        "\n",
        "sinasc.isnull().sum()\n"
      ]
    },
    {
      "cell_type": "markdown",
      "metadata": {
        "id": "Qz7nvVADODsf"
      },
      "source": [
        "#### 3. Ok, no item anterior você deve ter achado pouco prático ler a informação de tantas variáveis, muitas delas nem devem ser interesantes. Então crie uma seleção dessa base somente com as colunas que interessam. São elas:\n",
        "\n",
        "['LOCNASC', 'IDADEMAE', 'ESTCIVMAE', 'ESCMAE', 'QTDFILVIVO', \n",
        "    'GESTACAO', 'GRAVIDEZ', 'CONSULTAS', 'APGAR5'] "
      ]
    },
    {
      "cell_type": "code",
      "execution_count": null,
      "metadata": {
        "id": "qKBpogfWODsf",
        "outputId": "986dd84d-6f3c-4dc5-9767-24d85b3345a0"
      },
      "outputs": [
        {
          "data": {
            "text/plain": [
              "LOCNASC          0\n",
              "IDADEMAE         0\n",
              "ESTCIVMAE      317\n",
              "ESCMAE         312\n",
              "QTDFILVIVO    1573\n",
              "GESTACAO      1232\n",
              "GRAVIDEZ        79\n",
              "CONSULTAS        0\n",
              "APGAR5         103\n",
              "dtype: int64"
            ]
          },
          "execution_count": 4,
          "metadata": {},
          "output_type": "execute_result"
        }
      ],
      "source": [
        "# 3) seu código aqui\n",
        "colunas_interesse = ['LOCNASC', 'IDADEMAE', 'ESTCIVMAE', 'ESCMAE', 'QTDFILVIVO', \n",
        "    'GESTACAO', 'GRAVIDEZ', 'CONSULTAS', 'APGAR5'] \n",
        "\n",
        "df = sinasc[colunas_interesse]\n",
        "\n",
        "df.isnull().sum()"
      ]
    },
    {
      "cell_type": "code",
      "execution_count": null,
      "metadata": {
        "id": "wulAyJO9ODsf",
        "outputId": "e8669ce8-0c7a-4b27-aeea-6b374575516e"
      },
      "outputs": [
        {
          "data": {
            "text/html": [
              "<div>\n",
              "<style scoped>\n",
              "    .dataframe tbody tr th:only-of-type {\n",
              "        vertical-align: middle;\n",
              "    }\n",
              "\n",
              "    .dataframe tbody tr th {\n",
              "        vertical-align: top;\n",
              "    }\n",
              "\n",
              "    .dataframe thead th {\n",
              "        text-align: right;\n",
              "    }\n",
              "</style>\n",
              "<table border=\"1\" class=\"dataframe\">\n",
              "  <thead>\n",
              "    <tr style=\"text-align: right;\">\n",
              "      <th></th>\n",
              "      <th>LOCNASC</th>\n",
              "      <th>IDADEMAE</th>\n",
              "      <th>ESTCIVMAE</th>\n",
              "      <th>ESCMAE</th>\n",
              "      <th>QTDFILVIVO</th>\n",
              "      <th>GESTACAO</th>\n",
              "      <th>GRAVIDEZ</th>\n",
              "      <th>CONSULTAS</th>\n",
              "      <th>APGAR5</th>\n",
              "    </tr>\n",
              "  </thead>\n",
              "  <tbody>\n",
              "    <tr>\n",
              "      <th>0</th>\n",
              "      <td>1</td>\n",
              "      <td>19</td>\n",
              "      <td>5.0</td>\n",
              "      <td>8 a 11 anos</td>\n",
              "      <td>0.0</td>\n",
              "      <td>37 a 41 semanas</td>\n",
              "      <td>Única</td>\n",
              "      <td>4</td>\n",
              "      <td>10.0</td>\n",
              "    </tr>\n",
              "    <tr>\n",
              "      <th>1</th>\n",
              "      <td>1</td>\n",
              "      <td>29</td>\n",
              "      <td>2.0</td>\n",
              "      <td>8 a 11 anos</td>\n",
              "      <td>1.0</td>\n",
              "      <td>37 a 41 semanas</td>\n",
              "      <td>Única</td>\n",
              "      <td>4</td>\n",
              "      <td>9.0</td>\n",
              "    </tr>\n",
              "    <tr>\n",
              "      <th>2</th>\n",
              "      <td>1</td>\n",
              "      <td>37</td>\n",
              "      <td>9.0</td>\n",
              "      <td>8 a 11 anos</td>\n",
              "      <td>2.0</td>\n",
              "      <td>37 a 41 semanas</td>\n",
              "      <td>Única</td>\n",
              "      <td>4</td>\n",
              "      <td>10.0</td>\n",
              "    </tr>\n",
              "    <tr>\n",
              "      <th>3</th>\n",
              "      <td>1</td>\n",
              "      <td>30</td>\n",
              "      <td>5.0</td>\n",
              "      <td>12 anos ou mais</td>\n",
              "      <td>0.0</td>\n",
              "      <td>37 a 41 semanas</td>\n",
              "      <td>Única</td>\n",
              "      <td>3</td>\n",
              "      <td>10.0</td>\n",
              "    </tr>\n",
              "    <tr>\n",
              "      <th>4</th>\n",
              "      <td>1</td>\n",
              "      <td>30</td>\n",
              "      <td>2.0</td>\n",
              "      <td>8 a 11 anos</td>\n",
              "      <td>1.0</td>\n",
              "      <td>37 a 41 semanas</td>\n",
              "      <td>Única</td>\n",
              "      <td>4</td>\n",
              "      <td>10.0</td>\n",
              "    </tr>\n",
              "  </tbody>\n",
              "</table>\n",
              "</div>"
            ],
            "text/plain": [
              "   LOCNASC  IDADEMAE  ESTCIVMAE           ESCMAE  QTDFILVIVO         GESTACAO   \n",
              "0        1        19        5.0      8 a 11 anos         0.0  37 a 41 semanas  \\\n",
              "1        1        29        2.0      8 a 11 anos         1.0  37 a 41 semanas   \n",
              "2        1        37        9.0      8 a 11 anos         2.0  37 a 41 semanas   \n",
              "3        1        30        5.0  12 anos ou mais         0.0  37 a 41 semanas   \n",
              "4        1        30        2.0      8 a 11 anos         1.0  37 a 41 semanas   \n",
              "\n",
              "  GRAVIDEZ  CONSULTAS  APGAR5  \n",
              "0    Única          4    10.0  \n",
              "1    Única          4     9.0  \n",
              "2    Única          4    10.0  \n",
              "3    Única          3    10.0  \n",
              "4    Única          4    10.0  "
            ]
          },
          "execution_count": 5,
          "metadata": {},
          "output_type": "execute_result"
        }
      ],
      "source": [
        "df.head()"
      ]
    },
    {
      "cell_type": "code",
      "execution_count": null,
      "metadata": {
        "id": "QL5joZEaODsg",
        "outputId": "20799eb9-7303-4e56-fdbc-d6cfa84e5f4f"
      },
      "outputs": [
        {
          "data": {
            "text/plain": [
              "(27028, 9)"
            ]
          },
          "execution_count": 6,
          "metadata": {},
          "output_type": "execute_result"
        }
      ],
      "source": [
        "df.shape"
      ]
    },
    {
      "cell_type": "markdown",
      "metadata": {
        "id": "ZAc30h2IODsg"
      },
      "source": [
        "#### 4. Apgar é uma nota que o pediatra dá ao bebê quando nasce de acordo com algumas características associadas principalmente à respiração. Apgar 1 e Apgar 5 são as notas 1 e 5 minutos do nascimento. Apgar5 será a nossa variável de interesse principal. Então remova todos os registros com Apgar5 não preenchido. Para esta seleção, conte novamente o número de linhas e o número de missings."
      ]
    },
    {
      "cell_type": "code",
      "execution_count": null,
      "metadata": {
        "id": "Ds2xVOwDODsg",
        "outputId": "7e533c17-2815-4894-a3ba-9d46a91d577f"
      },
      "outputs": [
        {
          "data": {
            "text/plain": [
              "103"
            ]
          },
          "execution_count": 7,
          "metadata": {},
          "output_type": "execute_result"
        }
      ],
      "source": [
        "df[\"APGAR5\"].isna().sum()"
      ]
    },
    {
      "cell_type": "code",
      "execution_count": null,
      "metadata": {
        "id": "pqc8aIoQODsh"
      },
      "outputs": [],
      "source": [
        "df = df.dropna(subset=\"APGAR5\")"
      ]
    },
    {
      "cell_type": "code",
      "execution_count": null,
      "metadata": {
        "id": "ZwB3K324ODsh",
        "outputId": "0f21ee26-e8ce-4895-fe3f-affaca196fd7"
      },
      "outputs": [
        {
          "data": {
            "text/plain": [
              "0"
            ]
          },
          "execution_count": 9,
          "metadata": {},
          "output_type": "execute_result"
        }
      ],
      "source": [
        "df[\"APGAR5\"].isna().sum()"
      ]
    },
    {
      "cell_type": "code",
      "execution_count": null,
      "metadata": {
        "id": "oEAiqk0eODsh",
        "outputId": "63fb159f-17fc-47e0-8759-77ea86ccfaff"
      },
      "outputs": [
        {
          "data": {
            "text/html": [
              "<div>\n",
              "<style scoped>\n",
              "    .dataframe tbody tr th:only-of-type {\n",
              "        vertical-align: middle;\n",
              "    }\n",
              "\n",
              "    .dataframe tbody tr th {\n",
              "        vertical-align: top;\n",
              "    }\n",
              "\n",
              "    .dataframe thead th {\n",
              "        text-align: right;\n",
              "    }\n",
              "</style>\n",
              "<table border=\"1\" class=\"dataframe\">\n",
              "  <thead>\n",
              "    <tr style=\"text-align: right;\">\n",
              "      <th></th>\n",
              "      <th>LOCNASC</th>\n",
              "      <th>IDADEMAE</th>\n",
              "      <th>ESTCIVMAE</th>\n",
              "      <th>ESCMAE</th>\n",
              "      <th>QTDFILVIVO</th>\n",
              "      <th>GESTACAO</th>\n",
              "      <th>GRAVIDEZ</th>\n",
              "      <th>CONSULTAS</th>\n",
              "      <th>APGAR5</th>\n",
              "    </tr>\n",
              "  </thead>\n",
              "  <tbody>\n",
              "    <tr>\n",
              "      <th>0</th>\n",
              "      <td>1</td>\n",
              "      <td>19</td>\n",
              "      <td>5.0</td>\n",
              "      <td>8 a 11 anos</td>\n",
              "      <td>0.0</td>\n",
              "      <td>37 a 41 semanas</td>\n",
              "      <td>Única</td>\n",
              "      <td>4</td>\n",
              "      <td>10.0</td>\n",
              "    </tr>\n",
              "    <tr>\n",
              "      <th>1</th>\n",
              "      <td>1</td>\n",
              "      <td>29</td>\n",
              "      <td>2.0</td>\n",
              "      <td>8 a 11 anos</td>\n",
              "      <td>1.0</td>\n",
              "      <td>37 a 41 semanas</td>\n",
              "      <td>Única</td>\n",
              "      <td>4</td>\n",
              "      <td>9.0</td>\n",
              "    </tr>\n",
              "    <tr>\n",
              "      <th>2</th>\n",
              "      <td>1</td>\n",
              "      <td>37</td>\n",
              "      <td>9.0</td>\n",
              "      <td>8 a 11 anos</td>\n",
              "      <td>2.0</td>\n",
              "      <td>37 a 41 semanas</td>\n",
              "      <td>Única</td>\n",
              "      <td>4</td>\n",
              "      <td>10.0</td>\n",
              "    </tr>\n",
              "    <tr>\n",
              "      <th>3</th>\n",
              "      <td>1</td>\n",
              "      <td>30</td>\n",
              "      <td>5.0</td>\n",
              "      <td>12 anos ou mais</td>\n",
              "      <td>0.0</td>\n",
              "      <td>37 a 41 semanas</td>\n",
              "      <td>Única</td>\n",
              "      <td>3</td>\n",
              "      <td>10.0</td>\n",
              "    </tr>\n",
              "    <tr>\n",
              "      <th>4</th>\n",
              "      <td>1</td>\n",
              "      <td>30</td>\n",
              "      <td>2.0</td>\n",
              "      <td>8 a 11 anos</td>\n",
              "      <td>1.0</td>\n",
              "      <td>37 a 41 semanas</td>\n",
              "      <td>Única</td>\n",
              "      <td>4</td>\n",
              "      <td>10.0</td>\n",
              "    </tr>\n",
              "  </tbody>\n",
              "</table>\n",
              "</div>"
            ],
            "text/plain": [
              "   LOCNASC  IDADEMAE  ESTCIVMAE           ESCMAE  QTDFILVIVO         GESTACAO   \n",
              "0        1        19        5.0      8 a 11 anos         0.0  37 a 41 semanas  \\\n",
              "1        1        29        2.0      8 a 11 anos         1.0  37 a 41 semanas   \n",
              "2        1        37        9.0      8 a 11 anos         2.0  37 a 41 semanas   \n",
              "3        1        30        5.0  12 anos ou mais         0.0  37 a 41 semanas   \n",
              "4        1        30        2.0      8 a 11 anos         1.0  37 a 41 semanas   \n",
              "\n",
              "  GRAVIDEZ  CONSULTAS  APGAR5  \n",
              "0    Única          4    10.0  \n",
              "1    Única          4     9.0  \n",
              "2    Única          4    10.0  \n",
              "3    Única          3    10.0  \n",
              "4    Única          4    10.0  "
            ]
          },
          "execution_count": 10,
          "metadata": {},
          "output_type": "execute_result"
        }
      ],
      "source": [
        "df.head()"
      ]
    },
    {
      "cell_type": "markdown",
      "metadata": {
        "id": "fBFG609YODsh"
      },
      "source": [
        "#### 5.observe que as variáveis ['ESTCIVMAE', 'CONSULTAS'] possuem o código 9, que significa ignorado. Vamos assumir que o não preenchido é o mesmo que o código 9."
      ]
    },
    {
      "cell_type": "code",
      "execution_count": null,
      "metadata": {
        "scrolled": true,
        "id": "C6vvfyBmODsh",
        "outputId": "2abbadf4-f1cd-4c21-f6bf-e167b0308501"
      },
      "outputs": [
        {
          "data": {
            "text/plain": [
              "ESTCIVMAE\n",
              "2.0    9906\n",
              "1.0    8907\n",
              "5.0    7145\n",
              "4.0     451\n",
              "9.0     144\n",
              "3.0      57\n",
              "Name: count, dtype: int64"
            ]
          },
          "execution_count": 11,
          "metadata": {},
          "output_type": "execute_result"
        }
      ],
      "source": [
        "# 5) seu código aqui\n",
        "df[\"ESTCIVMAE\"].value_counts()"
      ]
    },
    {
      "cell_type": "markdown",
      "metadata": {
        "id": "vMw8FnJKODsi"
      },
      "source": [
        "Presumo que devo considerar não preenchido como null, logo:"
      ]
    },
    {
      "cell_type": "code",
      "execution_count": null,
      "metadata": {
        "id": "-xu0S-IGODsi",
        "outputId": "f707d18b-24d1-4bac-f73a-99b3b08b310d"
      },
      "outputs": [
        {
          "data": {
            "text/plain": [
              "ESTCIVMAE\n",
              "2.0    9906\n",
              "1.0    8907\n",
              "5.0    7145\n",
              "4.0     451\n",
              "3.0      57\n",
              "Name: count, dtype: int64"
            ]
          },
          "execution_count": 12,
          "metadata": {},
          "output_type": "execute_result"
        }
      ],
      "source": [
        "df.loc[df[\"ESTCIVMAE\"] != 9][\"ESTCIVMAE\"].value_counts()"
      ]
    },
    {
      "cell_type": "code",
      "execution_count": null,
      "metadata": {
        "id": "i0lvuSZnODsi"
      },
      "outputs": [],
      "source": [
        "df = df.loc[df[\"ESTCIVMAE\"] != 9]"
      ]
    },
    {
      "cell_type": "code",
      "execution_count": null,
      "metadata": {
        "id": "Ed3BeI0rODsi",
        "outputId": "4fde3d4e-0bc9-4e9e-926b-945bdce0dd7c"
      },
      "outputs": [
        {
          "data": {
            "text/plain": [
              "CONSULTAS\n",
              "4    18486\n",
              "3     5925\n",
              "2     1354\n",
              "1      966\n",
              "9       50\n",
              "Name: count, dtype: int64"
            ]
          },
          "execution_count": 14,
          "metadata": {},
          "output_type": "execute_result"
        }
      ],
      "source": [
        "df[\"CONSULTAS\"].value_counts()"
      ]
    },
    {
      "cell_type": "code",
      "execution_count": null,
      "metadata": {
        "id": "lQELQZrPODsi"
      },
      "outputs": [],
      "source": [
        "df = df.loc[df[\"CONSULTAS\"] != 9]"
      ]
    },
    {
      "cell_type": "code",
      "execution_count": null,
      "metadata": {
        "id": "YBemgFFeODsj",
        "outputId": "32360c9a-bcf9-4066-b0cd-53804b4056b3"
      },
      "outputs": [
        {
          "data": {
            "text/plain": [
              "CONSULTAS\n",
              "4    18486\n",
              "3     5925\n",
              "2     1354\n",
              "1      966\n",
              "Name: count, dtype: int64"
            ]
          },
          "execution_count": 16,
          "metadata": {},
          "output_type": "execute_result"
        }
      ],
      "source": [
        "df[\"CONSULTAS\"].value_counts()"
      ]
    },
    {
      "cell_type": "code",
      "execution_count": null,
      "metadata": {
        "id": "fZtKtBt1ODsj",
        "outputId": "ac658e4d-1d50-4c32-d0fe-6e6d2703499e"
      },
      "outputs": [
        {
          "data": {
            "text/html": [
              "<div>\n",
              "<style scoped>\n",
              "    .dataframe tbody tr th:only-of-type {\n",
              "        vertical-align: middle;\n",
              "    }\n",
              "\n",
              "    .dataframe tbody tr th {\n",
              "        vertical-align: top;\n",
              "    }\n",
              "\n",
              "    .dataframe thead th {\n",
              "        text-align: right;\n",
              "    }\n",
              "</style>\n",
              "<table border=\"1\" class=\"dataframe\">\n",
              "  <thead>\n",
              "    <tr style=\"text-align: right;\">\n",
              "      <th></th>\n",
              "      <th>LOCNASC</th>\n",
              "      <th>IDADEMAE</th>\n",
              "      <th>ESTCIVMAE</th>\n",
              "      <th>ESCMAE</th>\n",
              "      <th>QTDFILVIVO</th>\n",
              "      <th>GESTACAO</th>\n",
              "      <th>GRAVIDEZ</th>\n",
              "      <th>CONSULTAS</th>\n",
              "      <th>APGAR5</th>\n",
              "    </tr>\n",
              "  </thead>\n",
              "  <tbody>\n",
              "    <tr>\n",
              "      <th>0</th>\n",
              "      <td>1</td>\n",
              "      <td>19</td>\n",
              "      <td>5.0</td>\n",
              "      <td>8 a 11 anos</td>\n",
              "      <td>0.0</td>\n",
              "      <td>37 a 41 semanas</td>\n",
              "      <td>Única</td>\n",
              "      <td>4</td>\n",
              "      <td>10.0</td>\n",
              "    </tr>\n",
              "    <tr>\n",
              "      <th>1</th>\n",
              "      <td>1</td>\n",
              "      <td>29</td>\n",
              "      <td>2.0</td>\n",
              "      <td>8 a 11 anos</td>\n",
              "      <td>1.0</td>\n",
              "      <td>37 a 41 semanas</td>\n",
              "      <td>Única</td>\n",
              "      <td>4</td>\n",
              "      <td>9.0</td>\n",
              "    </tr>\n",
              "    <tr>\n",
              "      <th>3</th>\n",
              "      <td>1</td>\n",
              "      <td>30</td>\n",
              "      <td>5.0</td>\n",
              "      <td>12 anos ou mais</td>\n",
              "      <td>0.0</td>\n",
              "      <td>37 a 41 semanas</td>\n",
              "      <td>Única</td>\n",
              "      <td>3</td>\n",
              "      <td>10.0</td>\n",
              "    </tr>\n",
              "    <tr>\n",
              "      <th>4</th>\n",
              "      <td>1</td>\n",
              "      <td>30</td>\n",
              "      <td>2.0</td>\n",
              "      <td>8 a 11 anos</td>\n",
              "      <td>1.0</td>\n",
              "      <td>37 a 41 semanas</td>\n",
              "      <td>Única</td>\n",
              "      <td>4</td>\n",
              "      <td>10.0</td>\n",
              "    </tr>\n",
              "    <tr>\n",
              "      <th>5</th>\n",
              "      <td>1</td>\n",
              "      <td>33</td>\n",
              "      <td>5.0</td>\n",
              "      <td>1 a 3 anos</td>\n",
              "      <td>2.0</td>\n",
              "      <td>37 a 41 semanas</td>\n",
              "      <td>Única</td>\n",
              "      <td>4</td>\n",
              "      <td>10.0</td>\n",
              "    </tr>\n",
              "  </tbody>\n",
              "</table>\n",
              "</div>"
            ],
            "text/plain": [
              "   LOCNASC  IDADEMAE  ESTCIVMAE           ESCMAE  QTDFILVIVO         GESTACAO   \n",
              "0        1        19        5.0      8 a 11 anos         0.0  37 a 41 semanas  \\\n",
              "1        1        29        2.0      8 a 11 anos         1.0  37 a 41 semanas   \n",
              "3        1        30        5.0  12 anos ou mais         0.0  37 a 41 semanas   \n",
              "4        1        30        2.0      8 a 11 anos         1.0  37 a 41 semanas   \n",
              "5        1        33        5.0       1 a 3 anos         2.0  37 a 41 semanas   \n",
              "\n",
              "  GRAVIDEZ  CONSULTAS  APGAR5  \n",
              "0    Única          4    10.0  \n",
              "1    Única          4     9.0  \n",
              "3    Única          3    10.0  \n",
              "4    Única          4    10.0  \n",
              "5    Única          4    10.0  "
            ]
          },
          "execution_count": 17,
          "metadata": {},
          "output_type": "execute_result"
        }
      ],
      "source": [
        "df.head()"
      ]
    },
    {
      "cell_type": "markdown",
      "metadata": {
        "id": "Dd6qgTQxODsj"
      },
      "source": [
        "#### 6. Substitua os valores faltantes da quantitativa (QTDFILVIVO) por zero."
      ]
    },
    {
      "cell_type": "code",
      "execution_count": null,
      "metadata": {
        "id": "D8XsajyuODsj",
        "outputId": "91a9b36b-d2d5-419d-8120-7a0083b1d8a6"
      },
      "outputs": [
        {
          "data": {
            "text/plain": [
              "1554"
            ]
          },
          "execution_count": 18,
          "metadata": {},
          "output_type": "execute_result"
        }
      ],
      "source": [
        "# 6) Seu código aqui\n",
        "df[\"QTDFILVIVO\"].isnull().sum()"
      ]
    },
    {
      "cell_type": "code",
      "execution_count": null,
      "metadata": {
        "id": "AAeZ_-AnODsj",
        "outputId": "da8d0d4b-d66a-4014-9107-4d939b60ca0c"
      },
      "outputs": [
        {
          "data": {
            "text/plain": [
              "QTDFILVIVO\n",
              "1.0     9305\n",
              "0.0     9231\n",
              "2.0     4419\n",
              "3.0     1348\n",
              "4.0      475\n",
              "5.0      212\n",
              "6.0      104\n",
              "7.0       40\n",
              "8.0       23\n",
              "9.0        8\n",
              "10.0       6\n",
              "12.0       3\n",
              "11.0       1\n",
              "30.0       1\n",
              "14.0       1\n",
              "Name: count, dtype: int64"
            ]
          },
          "execution_count": 19,
          "metadata": {},
          "output_type": "execute_result"
        }
      ],
      "source": [
        "df[\"QTDFILVIVO\"].value_counts()"
      ]
    },
    {
      "cell_type": "code",
      "execution_count": null,
      "metadata": {
        "id": "h75ZcdOEODsk"
      },
      "outputs": [],
      "source": [
        "df[\"QTDFILVIVO\"].fillna(0, inplace=True)"
      ]
    },
    {
      "cell_type": "code",
      "execution_count": null,
      "metadata": {
        "id": "g8Kl7uLgODsk",
        "outputId": "1655a786-3eab-4b19-b0d5-4ae55e257bc1"
      },
      "outputs": [
        {
          "data": {
            "text/plain": [
              "0"
            ]
          },
          "execution_count": 21,
          "metadata": {},
          "output_type": "execute_result"
        }
      ],
      "source": [
        "df[\"QTDFILVIVO\"].isna().sum()"
      ]
    },
    {
      "cell_type": "markdown",
      "metadata": {
        "id": "Aj8-WB8xODsk"
      },
      "source": [
        "#### 7.Das restantes, decida que valore te parece mais adequado (um 'não preenchido' ou um valor 'mais provável' como no item anterior) e preencha. Justifique. Lembre-se de que tratamento de dados é trabalho do cientista, e que estamos tomando decisões a todo o momento - não há necessariamente certo e errado aqui."
      ]
    },
    {
      "cell_type": "code",
      "execution_count": null,
      "metadata": {
        "id": "W0q6zbvIODsk",
        "outputId": "b3b4e059-df9c-4de5-a6d1-afd78fdf6e38"
      },
      "outputs": [
        {
          "data": {
            "text/html": [
              "<div>\n",
              "<style scoped>\n",
              "    .dataframe tbody tr th:only-of-type {\n",
              "        vertical-align: middle;\n",
              "    }\n",
              "\n",
              "    .dataframe tbody tr th {\n",
              "        vertical-align: top;\n",
              "    }\n",
              "\n",
              "    .dataframe thead th {\n",
              "        text-align: right;\n",
              "    }\n",
              "</style>\n",
              "<table border=\"1\" class=\"dataframe\">\n",
              "  <thead>\n",
              "    <tr style=\"text-align: right;\">\n",
              "      <th></th>\n",
              "      <th>LOCNASC</th>\n",
              "      <th>IDADEMAE</th>\n",
              "      <th>ESTCIVMAE</th>\n",
              "      <th>ESCMAE</th>\n",
              "      <th>QTDFILVIVO</th>\n",
              "      <th>GESTACAO</th>\n",
              "      <th>GRAVIDEZ</th>\n",
              "      <th>CONSULTAS</th>\n",
              "      <th>APGAR5</th>\n",
              "    </tr>\n",
              "  </thead>\n",
              "  <tbody>\n",
              "    <tr>\n",
              "      <th>0</th>\n",
              "      <td>1</td>\n",
              "      <td>19</td>\n",
              "      <td>5.0</td>\n",
              "      <td>8 a 11 anos</td>\n",
              "      <td>0.0</td>\n",
              "      <td>37 a 41 semanas</td>\n",
              "      <td>Única</td>\n",
              "      <td>4</td>\n",
              "      <td>10.0</td>\n",
              "    </tr>\n",
              "    <tr>\n",
              "      <th>1</th>\n",
              "      <td>1</td>\n",
              "      <td>29</td>\n",
              "      <td>2.0</td>\n",
              "      <td>8 a 11 anos</td>\n",
              "      <td>1.0</td>\n",
              "      <td>37 a 41 semanas</td>\n",
              "      <td>Única</td>\n",
              "      <td>4</td>\n",
              "      <td>9.0</td>\n",
              "    </tr>\n",
              "    <tr>\n",
              "      <th>3</th>\n",
              "      <td>1</td>\n",
              "      <td>30</td>\n",
              "      <td>5.0</td>\n",
              "      <td>12 anos ou mais</td>\n",
              "      <td>0.0</td>\n",
              "      <td>37 a 41 semanas</td>\n",
              "      <td>Única</td>\n",
              "      <td>3</td>\n",
              "      <td>10.0</td>\n",
              "    </tr>\n",
              "    <tr>\n",
              "      <th>4</th>\n",
              "      <td>1</td>\n",
              "      <td>30</td>\n",
              "      <td>2.0</td>\n",
              "      <td>8 a 11 anos</td>\n",
              "      <td>1.0</td>\n",
              "      <td>37 a 41 semanas</td>\n",
              "      <td>Única</td>\n",
              "      <td>4</td>\n",
              "      <td>10.0</td>\n",
              "    </tr>\n",
              "    <tr>\n",
              "      <th>5</th>\n",
              "      <td>1</td>\n",
              "      <td>33</td>\n",
              "      <td>5.0</td>\n",
              "      <td>1 a 3 anos</td>\n",
              "      <td>2.0</td>\n",
              "      <td>37 a 41 semanas</td>\n",
              "      <td>Única</td>\n",
              "      <td>4</td>\n",
              "      <td>10.0</td>\n",
              "    </tr>\n",
              "  </tbody>\n",
              "</table>\n",
              "</div>"
            ],
            "text/plain": [
              "   LOCNASC  IDADEMAE  ESTCIVMAE           ESCMAE  QTDFILVIVO         GESTACAO   \n",
              "0        1        19        5.0      8 a 11 anos         0.0  37 a 41 semanas  \\\n",
              "1        1        29        2.0      8 a 11 anos         1.0  37 a 41 semanas   \n",
              "3        1        30        5.0  12 anos ou mais         0.0  37 a 41 semanas   \n",
              "4        1        30        2.0      8 a 11 anos         1.0  37 a 41 semanas   \n",
              "5        1        33        5.0       1 a 3 anos         2.0  37 a 41 semanas   \n",
              "\n",
              "  GRAVIDEZ  CONSULTAS  APGAR5  \n",
              "0    Única          4    10.0  \n",
              "1    Única          4     9.0  \n",
              "3    Única          3    10.0  \n",
              "4    Única          4    10.0  \n",
              "5    Única          4    10.0  "
            ]
          },
          "execution_count": 22,
          "metadata": {},
          "output_type": "execute_result"
        }
      ],
      "source": [
        "# 7) seu código aqui\n",
        "df.head()"
      ]
    },
    {
      "cell_type": "code",
      "execution_count": null,
      "metadata": {
        "id": "ZU5KTDNNODsk",
        "outputId": "6922b457-0935-4bf7-f423-deae612de051"
      },
      "outputs": [
        {
          "data": {
            "text/plain": [
              "LOCNASC          0\n",
              "IDADEMAE         0\n",
              "ESTCIVMAE      315\n",
              "ESCMAE         288\n",
              "QTDFILVIVO       0\n",
              "GESTACAO      1197\n",
              "GRAVIDEZ        75\n",
              "CONSULTAS        0\n",
              "APGAR5           0\n",
              "dtype: int64"
            ]
          },
          "execution_count": 23,
          "metadata": {},
          "output_type": "execute_result"
        }
      ],
      "source": [
        "df.isna().sum()"
      ]
    },
    {
      "cell_type": "code",
      "execution_count": null,
      "metadata": {
        "id": "jZBxvcSgODsk",
        "outputId": "cb3d2cd2-ce94-43af-8819-884c2da605ca"
      },
      "outputs": [
        {
          "name": "stdout",
          "output_type": "stream",
          "text": [
            " LOCNASC -0\n",
            " IDADEMAE -0\n",
            " ESTCIVMAE -0\n",
            " ESCMAE -0\n",
            " QTDFILVIVO -8\n",
            " GESTACAO -0\n",
            " GRAVIDEZ -0\n",
            " CONSULTAS -0\n",
            " APGAR5 -15968\n"
          ]
        }
      ],
      "source": [
        "for i in df.columns:\n",
        "    print(f\" {i} -{(df[i] == 9).sum()}\")"
      ]
    },
    {
      "cell_type": "code",
      "execution_count": null,
      "metadata": {
        "id": "KuGv0kXtODsl",
        "outputId": "d36d2fc6-7d26-46bd-b1b6-d01c7ffd0df4"
      },
      "outputs": [
        {
          "data": {
            "text/plain": [
              "LOCNASC\n",
              "1    26631\n",
              "3       40\n",
              "2       35\n",
              "4       25\n",
              "Name: count, dtype: int64"
            ]
          },
          "execution_count": 25,
          "metadata": {},
          "output_type": "execute_result"
        }
      ],
      "source": [
        "df[\"LOCNASC\"].value_counts()"
      ]
    },
    {
      "cell_type": "markdown",
      "metadata": {
        "id": "NG2bnPv6ODsl"
      },
      "source": [
        "No meu ponto de vista, nem um dos dados apresentam valores que podem ser substituidos ou removidos"
      ]
    },
    {
      "cell_type": "markdown",
      "metadata": {
        "id": "EoR7bDIMODsl"
      },
      "source": [
        "### 8. O Apgar possui uma classificação indicando se o bebê passou por asfixia:\n",
        "\n",
        "- Entre 8 e 10 está em uma faixa 'normal'.\n",
        "- Entre 6 e 7, significa que o recém-nascido passou por 'asfixia leve'.\n",
        "- Entre 4 e 5 significa 'asfixia moderada'.\n",
        "- Entre 0 e 3 significa 'asfixia severa'."
      ]
    },
    {
      "cell_type": "code",
      "execution_count": null,
      "metadata": {
        "id": "oOPc-lZxODsl",
        "outputId": "95a3a9e6-2e3f-4cb4-df15-9568a9c4a1ac"
      },
      "outputs": [
        {
          "data": {
            "text/plain": [
              "APGAR5\n",
              "9.0     15968\n",
              "10.0     8327\n",
              "8.0      1977\n",
              "7.0       240\n",
              "6.0        78\n",
              "5.0        45\n",
              "1.0        24\n",
              "4.0        23\n",
              "2.0        18\n",
              "0.0        16\n",
              "3.0        15\n",
              "Name: count, dtype: int64"
            ]
          },
          "execution_count": 27,
          "metadata": {},
          "output_type": "execute_result"
        }
      ],
      "source": [
        "# 8) seu código aqui\n",
        "df[\"APGAR5\"].value_counts()"
      ]
    },
    {
      "cell_type": "code",
      "execution_count": null,
      "metadata": {
        "id": "dslV31JsODsl"
      },
      "outputs": [],
      "source": [
        "df.loc[df[\"APGAR5\"] >=8, \"cat_apgar\"] = \"normal\"\n",
        "df.loc[(df[\"APGAR5\"] < 7) &  (6 <= df[\"APGAR5\"]), \"cat_apgar\"] = \"asfixia leve\"\n",
        "df.loc[(df[\"APGAR5\"] < 5 )&  (4 <= df[\"APGAR5\"]), \"cat_apgar\"] = \"asfixia moderada\"\n",
        "df.loc[(df[\"APGAR5\"] < 3), \"cat_apgar\"] = \"asfixia severa\""
      ]
    },
    {
      "cell_type": "code",
      "execution_count": null,
      "metadata": {
        "id": "-i4IncirODsm",
        "outputId": "d6453fc7-1c36-416a-d246-d5eef2121aba"
      },
      "outputs": [
        {
          "data": {
            "text/plain": [
              "cat_apgar\n",
              "normal              26272\n",
              "asfixia leve           78\n",
              "asfixia severa         58\n",
              "asfixia moderada       23\n",
              "Name: count, dtype: int64"
            ]
          },
          "execution_count": 33,
          "metadata": {},
          "output_type": "execute_result"
        }
      ],
      "source": [
        "df[\"cat_apgar\"].value_counts()"
      ]
    },
    {
      "cell_type": "code",
      "execution_count": null,
      "metadata": {
        "id": "hKySWXZjODsm",
        "outputId": "b49899a5-4a2e-4b98-957e-1d0c18a4ab70"
      },
      "outputs": [
        {
          "data": {
            "text/html": [
              "<div>\n",
              "<style scoped>\n",
              "    .dataframe tbody tr th:only-of-type {\n",
              "        vertical-align: middle;\n",
              "    }\n",
              "\n",
              "    .dataframe tbody tr th {\n",
              "        vertical-align: top;\n",
              "    }\n",
              "\n",
              "    .dataframe thead th {\n",
              "        text-align: right;\n",
              "    }\n",
              "</style>\n",
              "<table border=\"1\" class=\"dataframe\">\n",
              "  <thead>\n",
              "    <tr style=\"text-align: right;\">\n",
              "      <th></th>\n",
              "      <th>LOCNASC</th>\n",
              "      <th>IDADEMAE</th>\n",
              "      <th>ESTCIVMAE</th>\n",
              "      <th>ESCMAE</th>\n",
              "      <th>QTDFILVIVO</th>\n",
              "      <th>GESTACAO</th>\n",
              "      <th>GRAVIDEZ</th>\n",
              "      <th>CONSULTAS</th>\n",
              "      <th>APGAR5</th>\n",
              "      <th>cat_apgar</th>\n",
              "    </tr>\n",
              "  </thead>\n",
              "  <tbody>\n",
              "    <tr>\n",
              "      <th>0</th>\n",
              "      <td>1</td>\n",
              "      <td>19</td>\n",
              "      <td>5.0</td>\n",
              "      <td>8 a 11 anos</td>\n",
              "      <td>0.0</td>\n",
              "      <td>37 a 41 semanas</td>\n",
              "      <td>Única</td>\n",
              "      <td>4</td>\n",
              "      <td>10.0</td>\n",
              "      <td>normal</td>\n",
              "    </tr>\n",
              "    <tr>\n",
              "      <th>1</th>\n",
              "      <td>1</td>\n",
              "      <td>29</td>\n",
              "      <td>2.0</td>\n",
              "      <td>8 a 11 anos</td>\n",
              "      <td>1.0</td>\n",
              "      <td>37 a 41 semanas</td>\n",
              "      <td>Única</td>\n",
              "      <td>4</td>\n",
              "      <td>9.0</td>\n",
              "      <td>normal</td>\n",
              "    </tr>\n",
              "    <tr>\n",
              "      <th>3</th>\n",
              "      <td>1</td>\n",
              "      <td>30</td>\n",
              "      <td>5.0</td>\n",
              "      <td>12 anos ou mais</td>\n",
              "      <td>0.0</td>\n",
              "      <td>37 a 41 semanas</td>\n",
              "      <td>Única</td>\n",
              "      <td>3</td>\n",
              "      <td>10.0</td>\n",
              "      <td>normal</td>\n",
              "    </tr>\n",
              "    <tr>\n",
              "      <th>4</th>\n",
              "      <td>1</td>\n",
              "      <td>30</td>\n",
              "      <td>2.0</td>\n",
              "      <td>8 a 11 anos</td>\n",
              "      <td>1.0</td>\n",
              "      <td>37 a 41 semanas</td>\n",
              "      <td>Única</td>\n",
              "      <td>4</td>\n",
              "      <td>10.0</td>\n",
              "      <td>normal</td>\n",
              "    </tr>\n",
              "    <tr>\n",
              "      <th>5</th>\n",
              "      <td>1</td>\n",
              "      <td>33</td>\n",
              "      <td>5.0</td>\n",
              "      <td>1 a 3 anos</td>\n",
              "      <td>2.0</td>\n",
              "      <td>37 a 41 semanas</td>\n",
              "      <td>Única</td>\n",
              "      <td>4</td>\n",
              "      <td>10.0</td>\n",
              "      <td>normal</td>\n",
              "    </tr>\n",
              "  </tbody>\n",
              "</table>\n",
              "</div>"
            ],
            "text/plain": [
              "   LOCNASC  IDADEMAE  ESTCIVMAE           ESCMAE  QTDFILVIVO         GESTACAO   \n",
              "0        1        19        5.0      8 a 11 anos         0.0  37 a 41 semanas  \\\n",
              "1        1        29        2.0      8 a 11 anos         1.0  37 a 41 semanas   \n",
              "3        1        30        5.0  12 anos ou mais         0.0  37 a 41 semanas   \n",
              "4        1        30        2.0      8 a 11 anos         1.0  37 a 41 semanas   \n",
              "5        1        33        5.0       1 a 3 anos         2.0  37 a 41 semanas   \n",
              "\n",
              "  GRAVIDEZ  CONSULTAS  APGAR5 cat_apgar  \n",
              "0    Única          4    10.0    normal  \n",
              "1    Única          4     9.0    normal  \n",
              "3    Única          3    10.0    normal  \n",
              "4    Única          4    10.0    normal  \n",
              "5    Única          4    10.0    normal  "
            ]
          },
          "execution_count": 26,
          "metadata": {},
          "output_type": "execute_result"
        }
      ],
      "source": [
        "df.head()"
      ]
    },
    {
      "cell_type": "markdown",
      "metadata": {
        "id": "JP2I0QdzODsm"
      },
      "source": [
        "#### 9. Renomeie as variáveis para que fiquem no snake case, ou seja, em letras minúsculas, com um underscore entre as palávras. Dica: repare que se você não quiser criar um dataframe novo, você vai precisar usar a opção inplace = True."
      ]
    },
    {
      "cell_type": "code",
      "execution_count": null,
      "metadata": {
        "id": "NlyocAJzODsm"
      },
      "outputs": [],
      "source": [
        "# 9) seu código aqui\n",
        "colunas = [\"locs_nasc\", \"idade_mae\",\"estd_civ_mae\" ,\"esc_mar\", \"qtd_filh_vivo\", \"gestacao\", \"gravidez\", \"consultas\", \"apgar5\", \"cat_apgar\"]"
      ]
    },
    {
      "cell_type": "code",
      "execution_count": null,
      "metadata": {
        "id": "lhJjKfoGODsm"
      },
      "outputs": [],
      "source": [
        "df.columns = colunas"
      ]
    },
    {
      "cell_type": "code",
      "execution_count": null,
      "metadata": {
        "id": "9fcWce1LODsn",
        "outputId": "57bffb06-b2f6-4590-d6b4-65242771a26e"
      },
      "outputs": [
        {
          "data": {
            "text/html": [
              "<div>\n",
              "<style scoped>\n",
              "    .dataframe tbody tr th:only-of-type {\n",
              "        vertical-align: middle;\n",
              "    }\n",
              "\n",
              "    .dataframe tbody tr th {\n",
              "        vertical-align: top;\n",
              "    }\n",
              "\n",
              "    .dataframe thead th {\n",
              "        text-align: right;\n",
              "    }\n",
              "</style>\n",
              "<table border=\"1\" class=\"dataframe\">\n",
              "  <thead>\n",
              "    <tr style=\"text-align: right;\">\n",
              "      <th></th>\n",
              "      <th>locs_nasc</th>\n",
              "      <th>idade_mae</th>\n",
              "      <th>estd_civ_mae</th>\n",
              "      <th>esc_mar</th>\n",
              "      <th>qtd_filh_vivo</th>\n",
              "      <th>gestacao</th>\n",
              "      <th>gravidez</th>\n",
              "      <th>consultas</th>\n",
              "      <th>apgar5</th>\n",
              "      <th>cat_apgar</th>\n",
              "    </tr>\n",
              "  </thead>\n",
              "  <tbody>\n",
              "    <tr>\n",
              "      <th>0</th>\n",
              "      <td>1</td>\n",
              "      <td>19</td>\n",
              "      <td>5.0</td>\n",
              "      <td>8 a 11 anos</td>\n",
              "      <td>0.0</td>\n",
              "      <td>37 a 41 semanas</td>\n",
              "      <td>Única</td>\n",
              "      <td>4</td>\n",
              "      <td>10.0</td>\n",
              "      <td>normal</td>\n",
              "    </tr>\n",
              "    <tr>\n",
              "      <th>1</th>\n",
              "      <td>1</td>\n",
              "      <td>29</td>\n",
              "      <td>2.0</td>\n",
              "      <td>8 a 11 anos</td>\n",
              "      <td>1.0</td>\n",
              "      <td>37 a 41 semanas</td>\n",
              "      <td>Única</td>\n",
              "      <td>4</td>\n",
              "      <td>9.0</td>\n",
              "      <td>normal</td>\n",
              "    </tr>\n",
              "    <tr>\n",
              "      <th>3</th>\n",
              "      <td>1</td>\n",
              "      <td>30</td>\n",
              "      <td>5.0</td>\n",
              "      <td>12 anos ou mais</td>\n",
              "      <td>0.0</td>\n",
              "      <td>37 a 41 semanas</td>\n",
              "      <td>Única</td>\n",
              "      <td>3</td>\n",
              "      <td>10.0</td>\n",
              "      <td>normal</td>\n",
              "    </tr>\n",
              "    <tr>\n",
              "      <th>4</th>\n",
              "      <td>1</td>\n",
              "      <td>30</td>\n",
              "      <td>2.0</td>\n",
              "      <td>8 a 11 anos</td>\n",
              "      <td>1.0</td>\n",
              "      <td>37 a 41 semanas</td>\n",
              "      <td>Única</td>\n",
              "      <td>4</td>\n",
              "      <td>10.0</td>\n",
              "      <td>normal</td>\n",
              "    </tr>\n",
              "    <tr>\n",
              "      <th>5</th>\n",
              "      <td>1</td>\n",
              "      <td>33</td>\n",
              "      <td>5.0</td>\n",
              "      <td>1 a 3 anos</td>\n",
              "      <td>2.0</td>\n",
              "      <td>37 a 41 semanas</td>\n",
              "      <td>Única</td>\n",
              "      <td>4</td>\n",
              "      <td>10.0</td>\n",
              "      <td>normal</td>\n",
              "    </tr>\n",
              "  </tbody>\n",
              "</table>\n",
              "</div>"
            ],
            "text/plain": [
              "   locs_nasc  idade_mae  estd_civ_mae          esc_mar  qtd_filh_vivo   \n",
              "0          1         19           5.0      8 a 11 anos            0.0  \\\n",
              "1          1         29           2.0      8 a 11 anos            1.0   \n",
              "3          1         30           5.0  12 anos ou mais            0.0   \n",
              "4          1         30           2.0      8 a 11 anos            1.0   \n",
              "5          1         33           5.0       1 a 3 anos            2.0   \n",
              "\n",
              "          gestacao gravidez  consultas  apgar5 cat_apgar  \n",
              "0  37 a 41 semanas    Única          4    10.0    normal  \n",
              "1  37 a 41 semanas    Única          4     9.0    normal  \n",
              "3  37 a 41 semanas    Única          3    10.0    normal  \n",
              "4  37 a 41 semanas    Única          4    10.0    normal  \n",
              "5  37 a 41 semanas    Única          4    10.0    normal  "
            ]
          },
          "execution_count": 38,
          "metadata": {},
          "output_type": "execute_result"
        }
      ],
      "source": [
        "df.head(5)"
      ]
    },
    {
      "cell_type": "code",
      "execution_count": 1,
      "metadata": {
        "colab": {
          "base_uri": "https://localhost:8080/"
        },
        "id": "TAdsLI9JODsn",
        "outputId": "4f7c84a7-27f5-4190-de2e-1f8067dd6fc8"
      },
      "outputs": [
        {
          "output_type": "stream",
          "name": "stdout",
          "text": [
            "Looking in indexes: https://pypi.org/simple, https://us-python.pkg.dev/colab-wheels/public/simple/\n",
            "Requirement already satisfied: nbformat in /usr/local/lib/python3.10/dist-packages (5.8.0)\n",
            "Requirement already satisfied: traitlets>=5.1 in /usr/local/lib/python3.10/dist-packages (from nbformat) (5.7.1)\n",
            "Requirement already satisfied: jupyter-core in /usr/local/lib/python3.10/dist-packages (from nbformat) (5.3.0)\n",
            "Requirement already satisfied: fastjsonschema in /usr/local/lib/python3.10/dist-packages (from nbformat) (2.16.3)\n",
            "Requirement already satisfied: jsonschema>=2.6 in /usr/local/lib/python3.10/dist-packages (from nbformat) (4.3.3)\n",
            "Requirement already satisfied: pyrsistent!=0.17.0,!=0.17.1,!=0.17.2,>=0.14.0 in /usr/local/lib/python3.10/dist-packages (from jsonschema>=2.6->nbformat) (0.19.3)\n",
            "Requirement already satisfied: attrs>=17.4.0 in /usr/local/lib/python3.10/dist-packages (from jsonschema>=2.6->nbformat) (23.1.0)\n",
            "Requirement already satisfied: platformdirs>=2.5 in /usr/local/lib/python3.10/dist-packages (from jupyter-core->nbformat) (3.3.0)\n"
          ]
        }
      ],
      "source": [
        "pip install nbformat"
      ]
    }
  ],
  "metadata": {
    "kernelspec": {
      "display_name": "Python 3 (ipykernel)",
      "language": "python",
      "name": "python3"
    },
    "language_info": {
      "codemirror_mode": {
        "name": "ipython",
        "version": 3
      },
      "file_extension": ".py",
      "mimetype": "text/x-python",
      "name": "python",
      "nbconvert_exporter": "python",
      "pygments_lexer": "ipython3",
      "version": "3.11.2"
    },
    "colab": {
      "provenance": []
    }
  },
  "nbformat": 4,
  "nbformat_minor": 0
}